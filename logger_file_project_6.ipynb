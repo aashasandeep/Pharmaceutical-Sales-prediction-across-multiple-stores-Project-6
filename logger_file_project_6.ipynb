{
  "nbformat": 4,
  "nbformat_minor": 0,
  "metadata": {
    "colab": {
      "provenance": [],
      "authorship_tag": "ABX9TyMJYE2cXyrKliIgX7CsqPcr",
      "include_colab_link": true
    },
    "kernelspec": {
      "name": "python3",
      "display_name": "Python 3"
    },
    "language_info": {
      "name": "python"
    }
  },
  "cells": [
    {
      "cell_type": "markdown",
      "metadata": {
        "id": "view-in-github",
        "colab_type": "text"
      },
      "source": [
        "<a href=\"https://colab.research.google.com/github/aashasandeep/Pharmaceutical-Sales-prediction-across-multiple-stores-Project-6/blob/main/logger_file_project_6.ipynb\" target=\"_parent\"><img src=\"https://colab.research.google.com/assets/colab-badge.svg\" alt=\"Open In Colab\"/></a>"
      ]
    },
    {
      "cell_type": "code",
      "source": [
        "import logging"
      ],
      "metadata": {
        "id": "hA2tY5qQn3Po"
      },
      "execution_count": null,
      "outputs": []
    },
    {
      "cell_type": "code",
      "source": [
        "from google.colab import drive\n",
        "drive.mount('/content/drive')"
      ],
      "metadata": {
        "colab": {
          "base_uri": "https://localhost:8080/"
        },
        "id": "PX63cNoLL7Xs",
        "outputId": "d764ecf7-8387-4859-bf00-2f4de04d279b"
      },
      "execution_count": null,
      "outputs": [
        {
          "output_type": "stream",
          "name": "stdout",
          "text": [
            "Mounted at /content/drive\n"
          ]
        }
      ]
    },
    {
      "cell_type": "code",
      "source": [
        "logger=logging.getLogger('My_logger')"
      ],
      "metadata": {
        "id": "vBuXl-OoyJwQ"
      },
      "execution_count": null,
      "outputs": []
    },
    {
      "cell_type": "code",
      "source": [
        "logger.setLevel(logging.INFO)"
      ],
      "metadata": {
        "id": "OYPV2Sd9yU2r"
      },
      "execution_count": null,
      "outputs": []
    },
    {
      "cell_type": "code",
      "source": [
        "##handlers\n",
        "console_handler=logging.StreamHandler()"
      ],
      "metadata": {
        "id": "zoVesdfRysKp"
      },
      "execution_count": null,
      "outputs": []
    },
    {
      "cell_type": "code",
      "source": [
        "file_handler=logging.FileHandler('app.log')"
      ],
      "metadata": {
        "id": "uoVzr1i0ysnZ"
      },
      "execution_count": null,
      "outputs": []
    },
    {
      "cell_type": "code",
      "source": [
        "logger.addHandler(console_handler)\n",
        "logger.addHandler(file_handler)"
      ],
      "metadata": {
        "id": "1v99i3U4zFDQ"
      },
      "execution_count": null,
      "outputs": []
    },
    {
      "cell_type": "code",
      "source": [
        "##formatter\n",
        "formatter = logging.Formatter('%(asctime)s - %(levelname)s - %(message)s')"
      ],
      "metadata": {
        "id": "xS-I2qcXz8z1"
      },
      "execution_count": null,
      "outputs": []
    },
    {
      "cell_type": "code",
      "source": [
        "console_handler.setFormatter(formatter)\n",
        "file_handler.setFormatter(formatter)"
      ],
      "metadata": {
        "id": "c_rvIapY0jk8"
      },
      "execution_count": null,
      "outputs": []
    },
    {
      "cell_type": "code",
      "source": [
        "# Logging levels\n",
        "logger.debug(\"This is a debug message\")\n",
        "logger.info(\"This is an info message\")\n",
        "logger.warning(\"This is a warning message\")\n",
        "logger.error(\"This is an error message\")\n",
        "\n"
      ],
      "metadata": {
        "colab": {
          "base_uri": "https://localhost:8080/"
        },
        "id": "k5HtL9NG0GqQ",
        "outputId": "bd57573c-c018-4d30-aea3-6a1151f94f86"
      },
      "execution_count": null,
      "outputs": [
        {
          "output_type": "stream",
          "name": "stderr",
          "text": [
            "2024-10-29 07:33:38,810 - INFO - This is an info message\n",
            "INFO:My_logger:This is an info message\n",
            "2024-10-29 07:33:38,820 - WARNING - This is a warning message\n",
            "WARNING:My_logger:This is a warning message\n",
            "2024-10-29 07:33:38,825 - ERROR - This is an error message\n",
            "ERROR:My_logger:This is an error message\n"
          ]
        }
      ]
    },
    {
      "cell_type": "code",
      "source": [
        "import os"
      ],
      "metadata": {
        "id": "TRnH7ZSU1pP7"
      },
      "execution_count": null,
      "outputs": []
    },
    {
      "cell_type": "code",
      "source": [
        "import logging\n",
        "\n",
        "# Step 1: Configure logging\n",
        "logging.basicConfig(\n",
        "    filename='app.log',  # You can specify a log file\n",
        "    level=logging.DEBUG,  # Set the log level (DEBUG, INFO, WARNING, ERROR, CRITICAL)\n",
        "    format='%(asctime)s - %(levelname)s - %(message)s'  # Format of the log messages\n",
        ")"
      ],
      "metadata": {
        "id": "fdLhGED6oI2g"
      },
      "execution_count": null,
      "outputs": []
    },
    {
      "cell_type": "markdown",
      "source": [],
      "metadata": {
        "id": "SQ8FuJfVFj6w"
      }
    },
    {
      "cell_type": "code",
      "source": [
        "logger = logging.getLogger('My_logger')"
      ],
      "metadata": {
        "id": "mOgYh3NOEyxo"
      },
      "execution_count": null,
      "outputs": []
    },
    {
      "cell_type": "markdown",
      "source": [
        "## **Step**-2"
      ],
      "metadata": {
        "id": "OaZn7s5QFdUo"
      }
    },
    {
      "cell_type": "code",
      "source": [
        "import pandas as pd"
      ],
      "metadata": {
        "id": "5poSPRqqF8Yy"
      },
      "execution_count": null,
      "outputs": []
    },
    {
      "cell_type": "code",
      "source": [
        "# Step 2: Start logging in your project\n",
        "import logging\n",
        "import pandas as pd\n",
        "\n",
        "def load_data(file_path='/content/train.csv'):\n",
        "    logging.info(\"Loading data from file: %s\", file_path)\n",
        "    try:\n",
        "        data = pd.read_csv('/content/train.csv') # Assuming the file is an excel file\n",
        "        logging.info(\"Data loaded successfully from %s\", file_path)\n",
        "        return data\n",
        "    except Exception as e:\n",
        "        logging.error(\"Error loading data from file: %s\", file_path)\n",
        "        logging.exception(\"Exception occurred\", exc_info=True)\n",
        "        return None\n",
        "        data = pd.read_csv('/content/train.csv')\n",
        "        logging.info(\"Data loaded successfully from %s\", file_path)\n",
        "        return data\n",
        "    except Exception as e:\n",
        "        logging.error(\"Error loading data from file: %s\", file_path)\n",
        "        logging.exception(\"Exception occurred\", exc_info=True)\n",
        "        return None"
      ],
      "metadata": {
        "id": "EYZEZfiAoPqV"
      },
      "execution_count": null,
      "outputs": []
    }
  ]
}